{
 "cells": [
  {
   "cell_type": "code",
   "execution_count": 1,
   "id": "3fa15c09-3409-4e19-a9ba-e812ad59b353",
   "metadata": {},
   "outputs": [
    {
     "name": "stdout",
     "output_type": "stream",
     "text": [
      "[10, 17, 25, 38, 72]\n"
     ]
    }
   ],
   "source": [
    "liste = [17, 38, 10, 25, 72]\n",
    "liste.sort()\n",
    "print(liste)"
   ]
  },
  {
   "cell_type": "code",
   "execution_count": 2,
   "id": "de21b64f-54a4-43f5-8685-ff9ce2e3e172",
   "metadata": {},
   "outputs": [
    {
     "name": "stdout",
     "output_type": "stream",
     "text": [
      "[10, 17, 25, 38, 72, 12]\n"
     ]
    }
   ],
   "source": [
    "liste.append(12)\n",
    "print(liste)"
   ]
  },
  {
   "cell_type": "code",
   "execution_count": 3,
   "id": "da086f44-d5ce-4e9d-b265-a936a97aa3d6",
   "metadata": {},
   "outputs": [
    {
     "name": "stdout",
     "output_type": "stream",
     "text": [
      "[12, 72, 38, 25, 17, 10]\n"
     ]
    }
   ],
   "source": [
    "liste.reverse()\n",
    "print(liste)"
   ]
  },
  {
   "cell_type": "code",
   "execution_count": 5,
   "id": "a5c515c5-62bb-4fa3-8c66-f13b5aed5f07",
   "metadata": {},
   "outputs": [
    {
     "name": "stdout",
     "output_type": "stream",
     "text": [
      "[12, 72, 25, 17, 10]\n"
     ]
    }
   ],
   "source": [
    "liste.remove(38)\n",
    "print(liste)"
   ]
  },
  {
   "cell_type": "code",
   "execution_count": 9,
   "id": "08c66b7a-104e-4d99-a47e-191fd9fcb006",
   "metadata": {},
   "outputs": [
    {
     "data": {
      "text/plain": [
       "['__add__',\n",
       " '__class__',\n",
       " '__class_getitem__',\n",
       " '__contains__',\n",
       " '__delattr__',\n",
       " '__delitem__',\n",
       " '__dir__',\n",
       " '__doc__',\n",
       " '__eq__',\n",
       " '__format__',\n",
       " '__ge__',\n",
       " '__getattribute__',\n",
       " '__getitem__',\n",
       " '__getstate__',\n",
       " '__gt__',\n",
       " '__hash__',\n",
       " '__iadd__',\n",
       " '__imul__',\n",
       " '__init__',\n",
       " '__init_subclass__',\n",
       " '__iter__',\n",
       " '__le__',\n",
       " '__len__',\n",
       " '__lt__',\n",
       " '__mul__',\n",
       " '__ne__',\n",
       " '__new__',\n",
       " '__reduce__',\n",
       " '__reduce_ex__',\n",
       " '__repr__',\n",
       " '__reversed__',\n",
       " '__rmul__',\n",
       " '__setattr__',\n",
       " '__setitem__',\n",
       " '__sizeof__',\n",
       " '__str__',\n",
       " '__subclasshook__',\n",
       " 'append',\n",
       " 'clear',\n",
       " 'copy',\n",
       " 'count',\n",
       " 'extend',\n",
       " 'index',\n",
       " 'insert',\n",
       " 'pop',\n",
       " 'remove',\n",
       " 'reverse',\n",
       " 'sort']"
      ]
     },
     "execution_count": 9,
     "metadata": {},
     "output_type": "execute_result"
    }
   ],
   "source": [
    "dir(liste)"
   ]
  },
  {
   "cell_type": "code",
   "execution_count": 10,
   "id": "8ede9268-cc27-49b6-bed3-2cd7c86c1b1e",
   "metadata": {},
   "outputs": [
    {
     "data": {
      "text/plain": [
       "[72, 17]"
      ]
     },
     "execution_count": 10,
     "metadata": {},
     "output_type": "execute_result"
    }
   ],
   "source": [
    "liste[1::2]"
   ]
  },
  {
   "cell_type": "code",
   "execution_count": 11,
   "id": "a9d5f429-7a97-4a2c-bc56-da076ffae21e",
   "metadata": {},
   "outputs": [
    {
     "data": {
      "text/plain": [
       "3"
      ]
     },
     "execution_count": 11,
     "metadata": {},
     "output_type": "execute_result"
    }
   ],
   "source": [
    "liste.index(17)"
   ]
  },
  {
   "cell_type": "code",
   "execution_count": 12,
   "id": "0bb5f54e-aa1e-4fb6-8803-ef7cb5654c4f",
   "metadata": {},
   "outputs": [
    {
     "data": {
      "text/plain": [
       "[12, 72, 25, 17, 10]"
      ]
     },
     "execution_count": 12,
     "metadata": {},
     "output_type": "execute_result"
    }
   ],
   "source": [
    "liste[::1]"
   ]
  },
  {
   "cell_type": "code",
   "execution_count": null,
   "id": "d813f6e9-ff2b-428b-96fa-5d7a0bf65d0f",
   "metadata": {},
   "outputs": [],
   "source": []
  }
 ],
 "metadata": {
  "kernelspec": {
   "display_name": "Python 3 (ipykernel)",
   "language": "python",
   "name": "python3"
  },
  "language_info": {
   "codemirror_mode": {
    "name": "ipython",
    "version": 3
   },
   "file_extension": ".py",
   "mimetype": "text/x-python",
   "name": "python",
   "nbconvert_exporter": "python",
   "pygments_lexer": "ipython3",
   "version": "3.12.0"
  }
 },
 "nbformat": 4,
 "nbformat_minor": 5
}

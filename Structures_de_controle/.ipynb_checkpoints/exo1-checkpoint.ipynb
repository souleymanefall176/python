{
 "cells": [
  {
   "cell_type": "markdown",
   "id": "77f636e7-cd11-422c-86b1-ed9ed2f3c5d7",
   "metadata": {},
   "source": [
    "## Exercice 1\n",
    "Ecrire un programme demande á l’utilisateur de saisir 3 notes au clavier, ainsi que leurs coefficients, puis\r\n",
    "affiche ´ á la console la moyenne pondérée, en précisant ajourné si la moyenne est inférieure strictement á\r\n",
    "10, et admissible dans le cas contraire. Préciser les limites/lacunes du programme construit."
   ]
  },
  {
   "cell_type": "code",
   "execution_count": 3,
   "id": "035e140d-d84a-47f8-b91d-1b845c8ac606",
   "metadata": {},
   "outputs": [
    {
     "name": "stdin",
     "output_type": "stream",
     "text": [
      "Saisir la note 1 :  10\n",
      "Saisir le coef 1 :  1\n",
      "Saisir la note 2 :  12\n",
      "Saisir le coef 2 :  2\n",
      "Saisir la note 3 :  15\n",
      "Saisir le coef 3 :  3\n"
     ]
    },
    {
     "name": "stdout",
     "output_type": "stream",
     "text": [
      "----------------------------------------------------------------------------------------------------\n",
      "admissible\n"
     ]
    }
   ],
   "source": [
    "def saisie(n = 3):\n",
    "    notes = []\n",
    "    coefs = []\n",
    "    for i in range(n):\n",
    "        note = float(input(f\"Saisir la note {i+1} : \"))\n",
    "        coef = int(input(f\"Saisir le coef {i+1} : \"))\n",
    "        notes.append(note)\n",
    "        coefs.append(coef)\n",
    "    return notes, coefs\n",
    "\n",
    "\n",
    "def moyenne(notes,coefs):\n",
    "    somNotes = 0\n",
    "    somCoefs = 0\n",
    "    n = len(notes)\n",
    "    for i in range(n):\n",
    "        somNotes += notes[i] * coefs[i]\n",
    "        somCoefs += coefs[i]\n",
    "    return somNotes / somCoefs\n",
    "\n",
    "def deliberation():\n",
    "    ### saisie des notes et coefficient\n",
    "    notes,coefs = saisie()\n",
    "\n",
    "    ### calcule de la moyenne\n",
    "    moy = moyenne(notes, coefs)\n",
    "    print(\"-\" * 100)\n",
    "    if moy > 10:\n",
    "        print(\"admissible\")\n",
    "    else :\n",
    "        print(\"ajourne\")\n",
    "\n",
    "deliberation()\n"
   ]
  },
  {
   "cell_type": "markdown",
   "id": "e38892bf-c716-46f8-9f8e-19b5acb4dfdb",
   "metadata": {},
   "source": [
    "## Exercice 2\n",
    "Écrire un programme qui demande á l’utilisateur de saisir au clavier trois nombres réels (i.e. des expressions de type float) a non nul, b et c et qui affiche á la console le nombre de solutions de l’équation\r\n",
    "ax2 + bx + c = 0\r\n",
    "d’inconnue x ∈ R, ainsi que ses ´éventuelles solutions."
   ]
  },
  {
   "cell_type": "code",
   "execution_count": 10,
   "id": "9826bea3-2855-495b-bf65-215a84a51b99",
   "metadata": {},
   "outputs": [
    {
     "name": "stdin",
     "output_type": "stream",
     "text": [
      "Saisir le coefficient a :  2\n",
      "Saisir le coefficient b :  2\n",
      "Saisir le coefficient c :  1\n"
     ]
    },
    {
     "name": "stdout",
     "output_type": "stream",
     "text": [
      "L'equation n'admet pas de solution\n"
     ]
    }
   ],
   "source": [
    "from math import sqrt\n",
    "def saisir():\n",
    "    coefs = []\n",
    "    for i in \"abc\":\n",
    "        c = float(input(f\"Saisir le coefficient {i} : \"))\n",
    "\n",
    "        while (i == \"a\") and (c == 0):\n",
    "            c = float(input(f\"Saisir le coefficient {i} non nul : \"))\n",
    "        coefs.append(c)\n",
    "    \n",
    "    return coefs\n",
    "\n",
    "\n",
    "\n",
    "def solve():\n",
    "    ### recuperer les coefficients du trinomes\n",
    "    coefs = saisir()\n",
    "    a, b, c = coefs\n",
    "\n",
    "    ### calculer delta\n",
    "    delta = (b**2) - (4*a*c)\n",
    "\n",
    "    if delta > 0:\n",
    "        x1 = (-b - sqrt(delta)) / 2*a\n",
    "        x2 = (-b + sqrt(delta)) / 2*a\n",
    "        print(f\"On a deux solutions distinctes x1 = {x1} et x2 = {x2}\")\n",
    "    elif delta == 0:\n",
    "        x0 = -b / 2*a\n",
    "        print(f\"On a une solution double x0 = {x0}\")\n",
    "    else:\n",
    "        print(\"L'equation n'admet pas de solution\")\n",
    "\n",
    "solve()\n",
    "        "
   ]
  },
  {
   "cell_type": "markdown",
   "id": "2a703816-826a-4f5d-bd36-dbf44a1f313a",
   "metadata": {},
   "source": [
    "## Exercice 3\n",
    "creer un objet vec qui est liste de lsite vec = [[1, 2, 3], [4, 5, 6], [7, 8, 9]]\r\n",
    "Creer une liste nommé flatten á partir de la liste vec\r\n",
    "flatten = [1, 2, 3, 4, 5, 6, 7, 8, 9]"
   ]
  },
  {
   "cell_type": "code",
   "execution_count": 4,
   "id": "84a185d6-245c-4583-ab52-2e0fe2e325f7",
   "metadata": {},
   "outputs": [
    {
     "data": {
      "text/plain": [
       "[1, 2, 3, 4, 5, 6, 7, 8, 9]"
      ]
     },
     "execution_count": 4,
     "metadata": {},
     "output_type": "execute_result"
    }
   ],
   "source": [
    "vec = [[1, 2, 3], [4, 5, 6], [7, 8, 9]]\n",
    "# flatten = []\n",
    "# ### methode 1\n",
    "# for el in vec:\n",
    "#     for i in el:\n",
    "#         flatten.append(i)\n",
    "\n",
    "### methode 2 liste de comprehension\n",
    "\n",
    "flatten = [i for elt in vec for i in elt]\n",
    "flatten"
   ]
  },
  {
   "cell_type": "markdown",
   "id": "b166859a-937f-44c5-a22e-797900060a61",
   "metadata": {},
   "source": [
    "## Exercice 4\n",
    "Cet exercice propose des problèmes assez simples de réduction et de transformation, sur une thématique\r\n",
    "statistique </br>.1. Donner une définition de la fonction somme qui, étant donné une liste de nombres, renvoie la somme\r\n",
    "des éléments de cette liste, ou 0 si la liste est vide</br>.2. Donner une définition de la fonction moyenne qui, étant donné une liste non vide de nombres,renvoie\r\n",
    "la moyenne des éléments de cette liste</br>\n",
    "3. Donner une définition de la fonction carres qui, étant donné une liste L de nombres, renvoie la liste\r\n",
    "des carrés des éléments de L</br>.4. La variance d’une liste de nombres est égale à la différence entre la moyenne des carrés des éléments de \n",
    "la liste et le carré de la moyenne des éléments de la liste. Donner une définition de la fonction varianc \r\n",
    "qui, étant donné une liste non vide de nombres, renvoie la variance de la list</br>\n",
    "5. L’écart-type d’une liste de nombres est égal à la racine carrée de la variance de la liste. Donner une\r\n",
    "définition de la fonction ecart_type qui, étant donné une liste non vide de nombres, renvoie l’écart-type\r\n",
    "de la list</br>e.e.\r",
    ".\r",
    "\r"
   ]
  },
  {
   "cell_type": "code",
   "execution_count": 15,
   "id": "7b8603c7-5d44-4500-a5c0-2e55adf04400",
   "metadata": {},
   "outputs": [
    {
     "ename": "Exception",
     "evalue": "La liste doit etre non vide",
     "output_type": "error",
     "traceback": [
      "\u001b[1;31m---------------------------------------------------------------------------\u001b[0m",
      "\u001b[1;31mException\u001b[0m                                 Traceback (most recent call last)",
      "Cell \u001b[1;32mIn[15], line 61\u001b[0m\n\u001b[0;32m     59\u001b[0m         \u001b[38;5;28;01mraise\u001b[39;00m \u001b[38;5;167;01mException\u001b[39;00m(\u001b[38;5;124m\"\u001b[39m\u001b[38;5;124mLa liste doit etre non vide\u001b[39m\u001b[38;5;124m\"\u001b[39m)\n\u001b[0;32m     60\u001b[0m     \u001b[38;5;28;01mreturn\u001b[39;00m sqrt(variance(arrNbr))\n\u001b[1;32m---> 61\u001b[0m \u001b[43mecart_type\u001b[49m\u001b[43m(\u001b[49m\u001b[43m[\u001b[49m\u001b[43m]\u001b[49m\u001b[43m)\u001b[49m\n",
      "Cell \u001b[1;32mIn[15], line 59\u001b[0m, in \u001b[0;36mecart_type\u001b[1;34m(arrNbr)\u001b[0m\n\u001b[0;32m     57\u001b[0m \u001b[38;5;28;01mdef\u001b[39;00m \u001b[38;5;21mecart_type\u001b[39m(arrNbr):\n\u001b[0;32m     58\u001b[0m     \u001b[38;5;28;01mif\u001b[39;00m \u001b[38;5;129;01mnot\u001b[39;00m arrNbr:\n\u001b[1;32m---> 59\u001b[0m         \u001b[38;5;28;01mraise\u001b[39;00m \u001b[38;5;167;01mException\u001b[39;00m(\u001b[38;5;124m\"\u001b[39m\u001b[38;5;124mLa liste doit etre non vide\u001b[39m\u001b[38;5;124m\"\u001b[39m)\n\u001b[0;32m     60\u001b[0m     \u001b[38;5;28;01mreturn\u001b[39;00m sqrt(variance(arrNbr))\n",
      "\u001b[1;31mException\u001b[0m: La liste doit etre non vide"
     ]
    }
   ],
   "source": [
    "# from functools import reduce\n",
    "from math import sqrt\n",
    "\n",
    "# ### 1.\n",
    "# def somme(arrNbr):\n",
    "#     if len(arrNbr) == 0 :\n",
    "#         return 0\n",
    "#     return reduce(lambda som, x : som + x, arrNbr)\n",
    "\n",
    "# ### 2.\n",
    "# def moyenne(arrNbr):\n",
    "#     if len(arrNbr) > 0:\n",
    "#         return somme(arrNbr) / len(arrNbr)\n",
    "#     print(\"Impossible de diviser par 0\")\n",
    "\n",
    "# ### 3.\n",
    "# def carre(arrNbr):\n",
    "#     return list(map(lambda x: x**2, arrNbr))\n",
    "\n",
    "# ### 4.\n",
    "# def varianc(arrNbr):\n",
    "#     if len(arrNbr) > 0:\n",
    "#         return moyenne(carre(arrNbr)) - (moyenne(arrNbr))**2\n",
    "#     print(\"Le tableau est vide\")\n",
    "\n",
    "# ### 5.\n",
    "# def ecart_type(arrNbr):\n",
    "#     if len(arrNbr) > 0:\n",
    "#         return sqrt(varianc(arrNbr));\n",
    "#     print(\"Le tableau est vide\")\n",
    "\n",
    "### 1\n",
    "def somme(L):\n",
    "    som = 0\n",
    "    for i in L:\n",
    "        som += i\n",
    "    return som\n",
    "    \n",
    "### 2.\n",
    "def moyenne(arrNbr):\n",
    "    if len(arrNbr) == 0:\n",
    "        raise Exception(\"La liste doit etre non vide\")\n",
    "    return somme(arrNbr) / len(arrNbr)\n",
    "\n",
    "### 3.\n",
    "\n",
    "def carre(arrNbr):\n",
    "     return [i**2 for i in arrNbr]\n",
    "\n",
    "### 4.\n",
    "def variance(arrNbr):\n",
    "    if len(arrNbr) == 0:\n",
    "        raise Exception(\"La liste doit etre non vide\")\n",
    "    return moyenne(carre(arrNbr)) - (moyenne(arrNbr))**2\n",
    "\n",
    "### 5.\n",
    "def ecart_type(arrNbr):\n",
    "    if not arrNbr:\n",
    "        raise Exception(\"La liste doit etre non vide\")\n",
    "    return sqrt(variance(arrNbr))\n",
    "ecart_type([])"
   ]
  },
  {
   "cell_type": "markdown",
   "id": "6864c2a5-ff3a-4015-9def-55a2c8daac85",
   "metadata": {},
   "source": [
    "## Exercice 5\n",
    "Dans cet exercice, on résout des problèmes de transformation et de filtrage, ainsi que de combinaison de\r\n",
    "listes <br>\n",
    "Donner une définition de la fonction liste_mult qui, étant donné une liste L d’entiers et un entier k,\r\n",
    "retourne la liste obtenue en multipliant par k tous les éléments de L <br>\n",
    "Donner une définition de la fonction liste_div qui, étant donné une liste L d’entiers et un entier k\r\n",
    "non nul, retourne la liste obtenue en divisant par k les éléments de L qui sont multiples de k et en\r\n",
    "supprimant les autre<br>s.\r",
    "."
   ]
  },
  {
   "cell_type": "code",
   "execution_count": 18,
   "id": "c8232fd5-7558-46f0-b16c-8541a69a49db",
   "metadata": {},
   "outputs": [
    {
     "data": {
      "text/plain": [
       "[1, 2, 3, 4]"
      ]
     },
     "execution_count": 18,
     "metadata": {},
     "output_type": "execute_result"
    }
   ],
   "source": [
    "### 1.\n",
    "arr = [,3,4,6,8]\n",
    "def liste_mult(arr, k):\n",
    "    return [i*k for i in arr]\n",
    "\n",
    "\n",
    "### 2.\n",
    "def liste_div(arr, k):\n",
    "    if k == 0:\n",
    "        raise Exception(\"Impossible de diviser par 0\")\n",
    "    return [i // k for i in arr if i % k == 0] \n",
    "    \n",
    "\n",
    "    \n",
    "liste_div(arr, 2)"
   ]
  },
  {
   "cell_type": "code",
   "execution_count": 7,
   "id": "a196e7ad-1203-4c48-93d7-e7b663615960",
   "metadata": {},
   "outputs": [
    {
     "ename": "ZeroDivisionError",
     "evalue": "Impossible de diviser par 0",
     "output_type": "error",
     "traceback": [
      "\u001b[1;31m---------------------------------------------------------------------------\u001b[0m",
      "\u001b[1;31mZeroDivisionError\u001b[0m                         Traceback (most recent call last)",
      "Cell \u001b[1;32mIn[7], line 15\u001b[0m\n\u001b[0;32m     10\u001b[0m         \u001b[38;5;28;01mraise\u001b[39;00m \u001b[38;5;167;01mZeroDivisionError\u001b[39;00m(\u001b[38;5;124m\"\u001b[39m\u001b[38;5;124mImpossible de diviser par 0\u001b[39m\u001b[38;5;124m\"\u001b[39m)\n\u001b[0;32m     11\u001b[0m     \u001b[38;5;28;01mreturn\u001b[39;00m [i \u001b[38;5;241m/\u001b[39m\u001b[38;5;241m/\u001b[39m k \u001b[38;5;28;01mfor\u001b[39;00m i \u001b[38;5;129;01min\u001b[39;00m arr \u001b[38;5;28;01mif\u001b[39;00m i \u001b[38;5;241m%\u001b[39m k \u001b[38;5;241m==\u001b[39m \u001b[38;5;241m0\u001b[39m] \n\u001b[1;32m---> 15\u001b[0m \u001b[43mliste_div\u001b[49m\u001b[43m(\u001b[49m\u001b[43marr\u001b[49m\u001b[43m,\u001b[49m\u001b[43m \u001b[49m\u001b[38;5;241;43m0\u001b[39;49m\u001b[43m)\u001b[49m\n",
      "Cell \u001b[1;32mIn[7], line 10\u001b[0m, in \u001b[0;36mliste_div\u001b[1;34m(arr, k)\u001b[0m\n\u001b[0;32m      8\u001b[0m \u001b[38;5;28;01mdef\u001b[39;00m \u001b[38;5;21mliste_div\u001b[39m(arr, k):\n\u001b[0;32m      9\u001b[0m     \u001b[38;5;28;01mif\u001b[39;00m k \u001b[38;5;241m==\u001b[39m \u001b[38;5;241m0\u001b[39m:\n\u001b[1;32m---> 10\u001b[0m         \u001b[38;5;28;01mraise\u001b[39;00m \u001b[38;5;167;01mZeroDivisionError\u001b[39;00m(\u001b[38;5;124m\"\u001b[39m\u001b[38;5;124mImpossible de diviser par 0\u001b[39m\u001b[38;5;124m\"\u001b[39m)\n\u001b[0;32m     11\u001b[0m     \u001b[38;5;28;01mreturn\u001b[39;00m [i \u001b[38;5;241m/\u001b[39m\u001b[38;5;241m/\u001b[39m k \u001b[38;5;28;01mfor\u001b[39;00m i \u001b[38;5;129;01min\u001b[39;00m arr \u001b[38;5;28;01mif\u001b[39;00m i \u001b[38;5;241m%\u001b[39m k \u001b[38;5;241m==\u001b[39m \u001b[38;5;241m0\u001b[39m]\n",
      "\u001b[1;31mZeroDivisionError\u001b[0m: Impossible de diviser par 0"
     ]
    }
   ],
   "source": [
    "### 1.\n",
    "arr = [2,3,4,6,8]\n",
    "def liste_mult(arr, k):\n",
    "    return [i*k for i in arr]\n",
    "\n",
    "\n",
    "### 2.\n",
    "def liste_div(arr, k):\n",
    "    if k == 0:\n",
    "        raise ZeroDivisionError(\"Impossible de diviser par 0\")\n",
    "    return [i // k for i in arr if i % k == 0] \n",
    "    \n",
    "\n",
    "    \n",
    "liste_div(arr, 0)"
   ]
  },
  {
   "cell_type": "markdown",
   "id": "cf95f362-2a0f-4b8a-961c-e1707703d9af",
   "metadata": {},
   "source": [
    "## Exercice 6\n",
    "1. Écrire la fonction grands(L, x) qui reçoit en paramètres une liste de nombres L, et un élément x de L.\r\n",
    "La fonction renvoie le nombre d’éléments de L qui sont supérieurs strictement à x <br>\n",
    "2. Déterminer la complexité de la fonction grands(L, x), et justifier votre réponse. <br>\n",
    "3. Écrire la fonction petits(L, x) qui reçoit en paramètres une liste de nombres L, et un élément x de L.\r\n",
    "La fonction renvoie le nombre d’éléments de L qui sont inférieurs strictement à x <br>.&nbsp;&nbsp;L est une liste de taille n qui contient des nombres, et m un élément de L. L’élément m est un médian \n",
    "de L, si les deux conditions suivantes sont vérifiées  <br>\n",
    "&nbsp;&nbsp;&nbsp;&nbsp;Le nombre d’éléments de L,qui sont supérieurs strictement à m, est inférieur ou égale à n/\n",
    " <br>\n",
    "&nbsp;&nbsp;&nbsp;&nbsp;Le nombre d’éléments de L, qui sont inférieurs strictement à m, est inférieur ou égale à n/\n",
    " <br>\n",
    "&nbsp;&nbsp;Exemple: On considère la liste L = [25, 12, 6, 17, 3, 10, 20, 12, 15, 38], de taille n = 10. L’élément 12 est \n",
    "un médian de L, car  <br>\n",
    "4. Écrire la fonction median(L) qui reçoit en paramètre une liste de nombres L non vide, et qui renvoie\r\n",
    "un élément médian de la liste L <br>\n",
    "5. Déterminer la complexité de la fonction median(L),et justifier votre réponse.:22\r",
    ":\r",
    "."
   ]
  },
  {
   "cell_type": "code",
   "execution_count": 21,
   "id": "c4cb881d-73a6-4120-9c0f-9e71a75fcf15",
   "metadata": {},
   "outputs": [
    {
     "data": {
      "text/plain": [
       "2"
      ]
     },
     "execution_count": 21,
     "metadata": {},
     "output_type": "execute_result"
    }
   ],
   "source": [
    "def grands(L,x):\n",
    "    if x not in L:\n",
    "        raise Exception(\"L'element ne se trouve pas dans la liste\")\n",
    "    cpt = 0\n",
    "    for i in L:\n",
    "        if i > x:\n",
    "            cpt += 1\n",
    "    return cpt\n",
    "\n",
    "# def grands(L,x):\n",
    "#     if x not in L:\n",
    "#         raise Exception(\"L'element ne se trouve pas dans la liste\")\n",
    "#     return len([i for i in L if i > x)\n",
    "L = [1,3,4,8,2]\n",
    "grands(L, 3)\n",
    "### complexite lineaire car f(n) <= 7n => f appartient à taux de n . \n"
   ]
  },
  {
   "cell_type": "code",
   "execution_count": 23,
   "id": "6afb6d6f-729a-4849-b172-e9d110a422c1",
   "metadata": {},
   "outputs": [
    {
     "data": {
      "text/plain": [
       "2"
      ]
     },
     "execution_count": 23,
     "metadata": {},
     "output_type": "execute_result"
    }
   ],
   "source": [
    "def petits(L,x):\n",
    "    if x not in L:\n",
    "        raise Exception(\"L'element ne se trouve pas dans la liste\")\n",
    "    cpt = 0\n",
    "    for i in L:\n",
    "        if i < x:\n",
    "            cpt += 1\n",
    "    return cpt\n",
    "L = [1,3,4,8,2]\n",
    "petits(L, 3)"
   ]
  },
  {
   "cell_type": "code",
   "execution_count": 29,
   "id": "491978f1-9bae-47f8-a2f5-1d79e94130c5",
   "metadata": {},
   "outputs": [
    {
     "data": {
      "text/plain": [
       "12"
      ]
     },
     "execution_count": 29,
     "metadata": {},
     "output_type": "execute_result"
    }
   ],
   "source": [
    "def median(L):\n",
    "    n = len(L)\n",
    "    \n",
    "    if n > 0:\n",
    "        for i in L:\n",
    "            cpt1 = grands(L,i)\n",
    "            cpt2 = petits(L,i)\n",
    "            if (cpt1 <= n//2) and (cpt2 <= n//2) :\n",
    "                return i\n",
    "                \n",
    "                \n",
    "\n",
    "median([25, 12, 6, 17, 3, 10, 20, 12, 15, 38])\n",
    "            "
   ]
  },
  {
   "cell_type": "markdown",
   "id": "9113c6f8-b0f1-4a3a-be2e-357c7978fbb6",
   "metadata": {},
   "source": [
    "### Exercice 7\n",
    "Une anagramme d’un mot M est un mot formé en changeant de place les lettres du mot M <br>\n",
    "1.Écrire une fonction Anagramme(C1, C2) qui renvoie True si la chaîne de caractères C2 est un anagramme de C1, False sinon<br>\n",
    "2.Ecrire une fonction listeAnagramme(C1, L) qui renvoie True si tous les mots de la liste L sont des\r\n",
    "anagrammes de C1, False sino<br>\n",
    "3.On dispose d’une liste de chaines de caractères L. Ecrire une fonction N bCar(L) qui renvoie une liste\r\n",
    "de tuples formés de chaque mot de L et du nombre de ses caractère<br>sn"
   ]
  },
  {
   "cell_type": "code",
   "execution_count": 6,
   "id": "bcc939ea-9888-4958-9228-1515cb860e1e",
   "metadata": {},
   "outputs": [
    {
     "data": {
      "text/plain": [
       "True"
      ]
     },
     "execution_count": 6,
     "metadata": {},
     "output_type": "execute_result"
    }
   ],
   "source": [
    "# def anagramme(c1, c2):\n",
    "#     if len(c1) != len(c2):\n",
    "#         return False\n",
    "#     for i in c1:\n",
    "#         if i not in c2:\n",
    "#             return False\n",
    "\n",
    "#     for i in c2:\n",
    "#         if i not in c1:\n",
    "#             return False\n",
    "#     return True\n",
    "\n",
    "def anagramme(c1, c2):\n",
    "    return sorted(c1) == sorted(c2)\n",
    "\n",
    "\n",
    "anagramme(\"chien\", \"niche\")"
   ]
  },
  {
   "cell_type": "code",
   "execution_count": 37,
   "id": "45098575-21f5-4177-9aaa-fa76fb1e7a0a",
   "metadata": {},
   "outputs": [
    {
     "data": {
      "text/plain": [
       "True"
      ]
     },
     "execution_count": 37,
     "metadata": {},
     "output_type": "execute_result"
    }
   ],
   "source": [
    "def listeAnagramme(c1, L):\n",
    "    for i in L:\n",
    "        if not anagramme(c1, i):\n",
    "            return False\n",
    "    return True\n",
    "\n",
    "L = ['maire','marie','ramie','riame','mirae'] \n",
    "listeAnagramme(\"aimer\", L)"
   ]
  },
  {
   "cell_type": "code",
   "execution_count": 9,
   "id": "d38c1bf8-6368-4da9-ba4a-f66666602787",
   "metadata": {},
   "outputs": [
    {
     "data": {
      "text/plain": [
       "[('chien', 5), ('chat', 4), ('oiseau', 6)]"
      ]
     },
     "execution_count": 9,
     "metadata": {},
     "output_type": "execute_result"
    }
   ],
   "source": [
    "# def nbCar(L):\n",
    "#     tuples = []\n",
    "#     for i in L:\n",
    "#         nbr = len(i)\n",
    "#         tuple = (i, nbr)\n",
    "#         tuples.append(tuple)\n",
    "#     return tuples\n",
    "\n",
    "# def nbCar(L):\n",
    "# nbCar(['chien','chat','oiseau'])\n",
    "\n",
    "# def nbCar(L):\n",
    "#     G = []\n",
    "#     for mot in L:\n",
    "#         G.append((mot, len(mot)))\n",
    "#     return G\n",
    "\n",
    "def nbCar(L):\n",
    "    return [(mot, len(mot)) for mot in L]\n",
    "nbCar(['chien','chat','oiseau'])"
   ]
  },
  {
   "cell_type": "markdown",
   "id": "1d82ea7e-0232-4177-a90a-3b87389a49b7",
   "metadata": {},
   "source": [
    "### Exercice 8\n",
    "1. Définir une fonction baptisée entiers prenant comme arguments deux entiers i et j (avec i ≤ j) et qui\r\n",
    "affiche sur une même ligne les entiers de l’intervalle [|i, j|] séparés par le caractère <br>\n",
    "2. Modifier votre fonction pour qu’elle affiche désormais les entiers de l’intervalle [|i, j|] qui ne sont pas\r\n",
    "des multiples de 7.."
   ]
  },
  {
   "cell_type": "code",
   "execution_count": 17,
   "id": "7f6584cc-5a4d-48ba-8b0f-efd8391779b1",
   "metadata": {},
   "outputs": [
    {
     "name": "stdout",
     "output_type": "stream",
     "text": [
      "7-8-9-10-11-12-13-14-15-16-17-18-19-20-21\n"
     ]
    }
   ],
   "source": [
    "# def entiers(i,j):\n",
    "#     if i < j:\n",
    "#         for  k in range(i, j + 1):\n",
    "#             print(k, end=\"-\" if k < j else '')\n",
    "\n",
    "def entiers(i,j):\n",
    "    if i > j:\n",
    "        raise Exception(\"i doit etre inferieur à j\")\n",
    "    for  k in range(i, j):\n",
    "        print(k, end = \"-\")\n",
    "    print(j)\n",
    "\n",
    "entiers(7, 21)"
   ]
  },
  {
   "cell_type": "code",
   "execution_count": 23,
   "id": "5a0d4469-5851-4a36-982a-6ce41b553d60",
   "metadata": {},
   "outputs": [
    {
     "name": "stdout",
     "output_type": "stream",
     "text": [
      "3-4-5-6-8-9-10-11-12-13-15-16-17-18-19-20-22-23-24-25-26-27-29-30-31-32-33-34-36-37-38-39-40-41-43-44-45-46-47-48-50-51-52-53-54-55\n"
     ]
    }
   ],
   "source": [
    "def entiers(i,j):\n",
    "    if i > j:\n",
    "        raise Exception(\"i doit etre inferieur à j\")\n",
    "    if j % 7 == 0:\n",
    "        j -= 1\n",
    "    for  k in range(i, j):\n",
    "        if k % 7 != 0:\n",
    "            print(k, end = \"-\")\n",
    "    print(j)\n",
    "\n",
    "entiers(3, 56)"
   ]
  },
  {
   "cell_type": "code",
   "execution_count": 64,
   "id": "98719595-5b92-4a97-85b1-1108a5cd5811",
   "metadata": {},
   "outputs": [
    {
     "name": "stdout",
     "output_type": "stream",
     "text": [
      "7-14-21-28-35-42-49"
     ]
    }
   ],
   "source": [
    "def entiersModif(i,j):\n",
    "    if i < j:\n",
    "        for  k in range(i, j + 1):\n",
    "            if k % 7 == 0:\n",
    "                print(k, end=\"-\" if (k + 7) < j   else '')\n",
    "\n",
    "entiersModif(7, 50)"
   ]
  },
  {
   "cell_type": "markdown",
   "id": "4802e0a9-27d6-4264-bfd7-de3675a6f110",
   "metadata": {},
   "source": [
    "### Exercice 10\n",
    "1. Définir une fonction triangle1 à un argument entier n qui dessine dans le shell un triangle sur n lignes.<br>\r\n",
    "2. Définir une fonction triangle2 qui dessine ce même triangle mais dans l’autre sens<br>.\r\n",
    "3. Définir une fonction pyramide1 qui dessine une pyramide sur 2n1 ligne<br>s.\r\n",
    "4. Définir une fonction pyramide2 qui dessine une pyramide sur n lign<br>es."
   ]
  },
  {
   "cell_type": "code",
   "execution_count": 24,
   "id": "171dc7a9-9096-4602-98b3-ba6a39f4db5e",
   "metadata": {},
   "outputs": [
    {
     "name": "stdout",
     "output_type": "stream",
     "text": [
      "*\n",
      "**\n",
      "***\n",
      "****\n",
      "*****\n"
     ]
    }
   ],
   "source": [
    "# def triangle1(n):\n",
    "#     for i in range(n):\n",
    "#         for j in range(i):\n",
    "#             print(\"*\", end='')\n",
    "#         print()\n",
    "\n",
    "def triangle1(n):\n",
    "    for i in range(1, n+1):\n",
    "        print(\"*\" * i)\n",
    "triangle1(5)"
   ]
  },
  {
   "cell_type": "code",
   "execution_count": 26,
   "id": "f9791e17-413b-4f10-85f7-6d5231162ccd",
   "metadata": {},
   "outputs": [
    {
     "name": "stdout",
     "output_type": "stream",
     "text": [
      "*****\n",
      "****\n",
      "***\n",
      "**\n",
      "*\n"
     ]
    }
   ],
   "source": [
    "# def triangle2(n):\n",
    "#     for i in range(n):\n",
    "#         for j in range(n - i, 0, -1):\n",
    "#             print(\"*\", end='')\n",
    "#         print()\n",
    "\n",
    "def triangle2(n):\n",
    "    m = n + 1\n",
    "    for i in range(1, m):\n",
    "        print(\"*\" * (m - i))\n",
    "triangle2(5)"
   ]
  },
  {
   "cell_type": "code",
   "execution_count": 32,
   "id": "d46e490a-2ddb-41f2-a202-773ccac0302e",
   "metadata": {},
   "outputs": [
    {
     "name": "stdout",
     "output_type": "stream",
     "text": [
      "*\n",
      "**\n",
      "***\n",
      "****\n",
      "*****\n",
      "****\n",
      "***\n",
      "**\n",
      "*\n"
     ]
    }
   ],
   "source": [
    "def pyramide1(n):\n",
    "    triangle1(n)\n",
    "    triangle2(n - 1)\n",
    "\n",
    "pyramide1(5)"
   ]
  },
  {
   "cell_type": "code",
   "execution_count": 36,
   "id": "6ed3ee72-efaf-4188-9fcb-8447622c88cb",
   "metadata": {},
   "outputs": [
    {
     "name": "stdout",
     "output_type": "stream",
     "text": [
      "    * \n",
      "   * * \n",
      "  * * * \n",
      " * * * * \n",
      "* * * * * \n"
     ]
    }
   ],
   "source": [
    "def pyramide2(n):\n",
    "    for i in range(1, n + 1):\n",
    "        print(\" \" * (n - i) + \"* \" * i)\n",
    "        \n",
    "\n",
    "pyramide2(5)"
   ]
  },
  {
   "cell_type": "code",
   "execution_count": null,
   "id": "150bad11-d32f-4d20-bf92-1f24a1a8d530",
   "metadata": {},
   "outputs": [],
   "source": []
  }
 ],
 "metadata": {
  "kernelspec": {
   "display_name": "Python 3 (ipykernel)",
   "language": "python",
   "name": "python3"
  },
  "language_info": {
   "codemirror_mode": {
    "name": "ipython",
    "version": 3
   },
   "file_extension": ".py",
   "mimetype": "text/x-python",
   "name": "python",
   "nbconvert_exporter": "python",
   "pygments_lexer": "ipython3",
   "version": "3.12.0"
  }
 },
 "nbformat": 4,
 "nbformat_minor": 5
}

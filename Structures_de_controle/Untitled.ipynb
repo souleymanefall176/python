{
 "cells": [
  {
   "cell_type": "code",
   "execution_count": 8,
   "id": "ad27b602-477f-430b-b44f-3d31cf653277",
   "metadata": {},
   "outputs": [
    {
     "data": {
      "text/plain": [
       "False"
      ]
     },
     "execution_count": 8,
     "metadata": {},
     "output_type": "execute_result"
    }
   ],
   "source": [
    "from math import sqrt\n",
    "def estPremier(val):\n",
    "    n = int(sqrt(val))\n",
    "    for i in range(2, n + 1):\n",
    "        if val % i == 0:\n",
    "            return False\n",
    "    return True\n",
    "\n",
    "estPremier(12)"
   ]
  },
  {
   "cell_type": "code",
   "execution_count": 21,
   "id": "f55c4587-06b3-4234-855b-e81ec2e46f3f",
   "metadata": {},
   "outputs": [
    {
     "name": "stdout",
     "output_type": "stream",
     "text": [
      "3\n"
     ]
    },
    {
     "name": "stdin",
     "output_type": "stream",
     "text": [
      "Donner un nombre compris entre 1 et 100 :  3\n"
     ]
    },
    {
     "name": "stdout",
     "output_type": "stream",
     "text": [
      "Bravo vous avez trouve le nombre mystere\n"
     ]
    }
   ],
   "source": [
    "from random import  randint\n",
    "\n",
    "nombre_mystere = randint(1, 100)\n",
    "print(nombre_mystere)\n",
    "nb_essai = 1\n",
    "v = int(input(\"Donner un nombre compris entre 1 et 100 : \"))\n",
    "\n",
    "while nb_essai < 5:\n",
    "    if v == nombre_mystere : \n",
    "        print(\"Bravo vous avez trouve le nombre mystere\")\n",
    "        break\n",
    "    else :\n",
    "        v = int(input(\"Donner un nombre compris entre 1 et 100 : \"))\n",
    "        nb_essai += 1\n",
    "if nb_essai == 5:\n",
    "        print(\"Desole vous n'avez pas trouve le nombre mystere\")\n",
    "        \n",
    "\n",
    "    "
   ]
  },
  {
   "cell_type": "code",
   "execution_count": 23,
   "id": "086f40c8-af0d-41b3-bd5b-7873708f9248",
   "metadata": {},
   "outputs": [
    {
     "data": {
      "text/plain": [
       "10"
      ]
     },
     "execution_count": 23,
     "metadata": {},
     "output_type": "execute_result"
    }
   ],
   "source": [
    "mat =  [[1, 2, 3], [6, 9, 10]]\n",
    "\n",
    "maxi = mat[0][0]\n",
    "\n",
    "for i in mat:\n",
    "    for j in i:\n",
    "        if j > maxi:\n",
    "            maxi = j\n",
    "\n",
    "maxi"
   ]
  },
  {
   "cell_type": "code",
   "execution_count": 24,
   "id": "b8ea4be7-1b55-41e3-b67f-cd5009e11e6b",
   "metadata": {},
   "outputs": [
    {
     "data": {
      "text/plain": [
       "10"
      ]
     },
     "execution_count": 24,
     "metadata": {},
     "output_type": "execute_result"
    }
   ],
   "source": [
    "mat =  [\n",
    "    [1, 2, 3],\n",
    "    [6, 9, 10]\n",
    "]\n",
    "n = len(mat)\n",
    "m = len(mat[0]) \n",
    "maxi = mat[0][0]\n",
    "\n",
    "for i in range(n):\n",
    "    for j in range(m):\n",
    "        if mat[i][j] > maxi:\n",
    "            maxi = mat[i][j]\n",
    "\n",
    "maxi"
   ]
  }
 ],
 "metadata": {
  "kernelspec": {
   "display_name": "Python 3 (ipykernel)",
   "language": "python",
   "name": "python3"
  },
  "language_info": {
   "codemirror_mode": {
    "name": "ipython",
    "version": 3
   },
   "file_extension": ".py",
   "mimetype": "text/x-python",
   "name": "python",
   "nbconvert_exporter": "python",
   "pygments_lexer": "ipython3",
   "version": "3.12.0"
  }
 },
 "nbformat": 4,
 "nbformat_minor": 5
}

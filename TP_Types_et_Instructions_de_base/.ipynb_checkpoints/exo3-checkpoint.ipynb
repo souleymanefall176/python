{
 "cells": [
  {
   "cell_type": "code",
   "execution_count": 1,
   "id": "397f62b0-6f47-480d-bd11-fd41fb4b263d",
   "metadata": {},
   "outputs": [
    {
     "name": "stdin",
     "output_type": "stream",
     "text": [
      "Veuillez saisir votre nom :  fall\n",
      "Veuillez saisir votre age :  22\n"
     ]
    },
    {
     "name": "stdout",
     "output_type": "stream",
     "text": [
      "Votre nom est fall et vous avez 22 ans\n"
     ]
    }
   ],
   "source": [
    "### Saisir un nom et un âge en utilisant l’instruction input(). Les afficher. Refaire la saisie du nom, mais\n",
    "### avec l’instruction raw_input(). L’afficher\n",
    "\n",
    "nom = input(\"Veuillez saisir votre nom : \")\n",
    "age = int(input(\"Veuillez saisir votre age : \"))\n",
    "\n",
    "print(f\"Votre nom est {nom} et vous avez {age} ans\")"
   ]
  },
  {
   "cell_type": "code",
   "execution_count": null,
   "id": "2986ec86-8829-48de-9c87-f156c36fe386",
   "metadata": {},
   "outputs": [],
   "source": []
  }
 ],
 "metadata": {
  "kernelspec": {
   "display_name": "Python 3 (ipykernel)",
   "language": "python",
   "name": "python3"
  },
  "language_info": {
   "codemirror_mode": {
    "name": "ipython",
    "version": 3
   },
   "file_extension": ".py",
   "mimetype": "text/x-python",
   "name": "python",
   "nbconvert_exporter": "python",
   "pygments_lexer": "ipython3",
   "version": "3.12.0"
  }
 },
 "nbformat": 4,
 "nbformat_minor": 5
}

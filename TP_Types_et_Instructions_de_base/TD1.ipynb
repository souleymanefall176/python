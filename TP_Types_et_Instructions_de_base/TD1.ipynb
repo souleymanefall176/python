{
 "cells": [
  {
   "cell_type": "markdown",
   "id": "e68ce2b6-62b7-494a-a4a8-4a5ddccb32c9",
   "metadata": {},
   "source": [
    "## Exercice 1\n",
    "Affectez les variables temps et distance par les valeurs 6.892 et 19.7. Calculez et affichez la valeur de la\r\n",
    "vitesse. Améliorez l’affichage en imposant un chiffre après le point décimal."
   ]
  },
  {
   "cell_type": "markdown",
   "id": "9ca099bb-3229-41a9-913e-599a6fa81e5d",
   "metadata": {},
   "source": [
    "(: float) ne participe pas au code mais permet au lecteur de savoir.\n",
    "exemple temps : float = 6.892"
   ]
  },
  {
   "cell_type": "code",
   "execution_count": 1,
   "id": "019dc023-b925-4fa9-bde3-5f538fd3d512",
   "metadata": {},
   "outputs": [
    {
     "name": "stdout",
     "output_type": "stream",
     "text": [
      "La vitesse est : 2.9\n"
     ]
    }
   ],
   "source": [
    "temps  = 6.892\n",
    "distance  = 19.7\n",
    "\n",
    "vitesse = distance / temps\n",
    "\n"
   ]
  },
  {
   "cell_type": "code",
   "execution_count": 3,
   "id": "b8c4772d-66f9-4178-8f59-52801eecd938",
   "metadata": {},
   "outputs": [
    {
     "name": "stdout",
     "output_type": "stream",
     "text": [
      "La vitesse est : 2.86\n"
     ]
    }
   ],
   "source": [
    "print(f\"La vitesse est : {vitesse:.2f}\")"
   ]
  },
  {
   "cell_type": "code",
   "execution_count": 5,
   "id": "6de68140-8677-485c-bcba-85e138445309",
   "metadata": {},
   "outputs": [
    {
     "name": "stdout",
     "output_type": "stream",
     "text": [
      "La vitesse est : 2.86\n"
     ]
    }
   ],
   "source": [
    "import builtins\n",
    "### round est une fonction qui necessite pas d'importation\n",
    "print(f\"La vitesse est : {round(vitesse,2)}\")"
   ]
  },
  {
   "cell_type": "markdown",
   "id": "ea7fa39f-d4f8-430d-8552-cf415686bde5",
   "metadata": {},
   "source": [
    "## Exercice 2"
   ]
  },
  {
   "cell_type": "markdown",
   "id": "40d20923-5e84-42a9-b2c6-de8b55ad202d",
   "metadata": {},
   "source": [
    "Cet exercice a pour but de calculer l’aire d’une couronne (c’est-à-dire l’aire comprise entre 2 disques de\n",
    "même centre mais de rayons différents), et de travailler sur la notion d’hypothèse.\n",
    "1. Donner une définition ainsi qu’un jeu de tests de la fonction aire_disque qui calcule l’aire π × r\n",
    "2 d’un\n",
    "disque de rayon r\n",
    "Remarque : En python, la constante π est déjà définie dans le module math. Pour l’utiliser, il faut\n",
    "déclarer l’utilisation de ce module en tête du programme avec l’instruction suivante import :\n",
    "2. Donner une définition ainsi qu’un jeu de tests de la fonction aire_couronne qui, étant donné deux\n",
    "nombres r1 et r2, calcule l’aire de la couronne de rayon intérieur r1 et de rayon extérieur r2.\n",
    "Par hypothèse, on considère que le rayon intérieur est inférieur ou égal au rayon extérieur\n"
   ]
  },
  {
   "cell_type": "code",
   "execution_count": 10,
   "id": "eb6651d4-04f7-4452-8cfa-51ac318873aa",
   "metadata": {},
   "outputs": [],
   "source": [
    "### aire couronne\n",
    "from math import pi\n",
    "def aire_disque(r) :\n",
    "    return pi * r**2\n",
    "\n",
    "assert aire_disque(2) == 12.566370614359172\n"
   ]
  },
  {
   "cell_type": "code",
   "execution_count": 17,
   "id": "3ca9ead8-b404-4950-b016-d5581b264eee",
   "metadata": {},
   "outputs": [
    {
     "name": "stdout",
     "output_type": "stream",
     "text": [
      "Aire du couronne est : 15.707963267948966\n"
     ]
    }
   ],
   "source": [
    "### aire disque\n",
    "def aire_couronne(r1, r2) :\n",
    "    if (r1 >= r2) :\n",
    "        return aire_disque(r1) - aire_disque(r2)\n",
    "    else :\n",
    "        print(f\"ERREUR : {r1} doit etre superieure à {r2}\")\n",
    "\n",
    "result = aire_couronne(3,2)\n",
    "assert result == 15.707963267948966\n",
    "\n",
    "if result :\n",
    "    print(f\"Aire du couronne est : {result}\")"
   ]
  },
  {
   "cell_type": "markdown",
   "id": "515bd0c4-a1db-4d82-972d-90088e8f575a",
   "metadata": {},
   "source": [
    "## Exercice 3"
   ]
  },
  {
   "cell_type": "markdown",
   "id": "b97b934f-3a9d-4e59-a372-60e455a15347",
   "metadata": {},
   "source": [
    "Saisir un nom et un âge en utilisant l’instruction input(). Les afficher. Refaire la saisie du nom, mais\n",
    "avec l’instruction raw_input(). L’afficher. Enfin, utilisez la « bonne pratique » : recommencez l’exercice en\n",
    "transtypant les saisies effectuées avec l’instruction raw_input()\n",
    "raw_input n'existe plus\n"
   ]
  },
  {
   "cell_type": "code",
   "execution_count": null,
   "id": "c4818832-57a5-4ae7-b0bb-dad1c6b41d6c",
   "metadata": {},
   "outputs": [],
   "source": [
    "nom = input(\"Veuillez saisir votre nom : \")\n",
    "age = int(input(\"Veuillez saisir votre age : \"))\n",
    "\n",
    "print(f\"Votre nom est {nom} et vous avez {age} ans\")"
   ]
  },
  {
   "cell_type": "markdown",
   "id": "13516f8c-5110-4fba-aacb-ec833c550799",
   "metadata": {},
   "source": [
    "## Exercice 4"
   ]
  },
  {
   "cell_type": "markdown",
   "id": "23682661-62a1-4766-96f4-04c46c26bcfb",
   "metadata": {},
   "source": [
    "définir la liste : liste = [17, 38, 10, 25, 72], puis effectuez les actions suivantes :\r\n",
    "1. triez et affichez la liste\r\n",
    "2. ajoutez l’élément 12 à la liste et affichez la liste\r\n",
    "3. renversez et affichez la liste\r\n",
    "4. affichez l’indice de l’élément 17\r\n",
    "5. enlevez l’élément 38 et affichez la liste\r\n",
    "6. affichez la sous-liste du 2\r\n",
    "e au 3\r\n",
    "e\r\n",
    "élément\r\n",
    "7. affichez la sous-liste du début au 2\r\n",
    "e\r\n",
    "élément\r\n",
    "8. affichez la sous-liste du 3\r\n",
    "e\r\n",
    "élément à la fin de la liste\r\n",
    "9. affichez la sous-liste complète de la liste\r\n",
    "10. affichez le dernier élément en utilisant un indiçage négatif."
   ]
  },
  {
   "cell_type": "code",
   "execution_count": 30,
   "id": "5e13e24e-5ad7-4168-bc02-a0f7e2d00a75",
   "metadata": {},
   "outputs": [],
   "source": [
    "liste = [17, 38, 10, 25, 72]"
   ]
  },
  {
   "cell_type": "markdown",
   "id": "5f88968b-1d89-41de-a868-52b35b1a852f",
   "metadata": {},
   "source": [
    "### 1. triez et affichez la liste"
   ]
  },
  {
   "cell_type": "markdown",
   "id": "e5587f43-ddd9-4768-9660-4586564980f4",
   "metadata": {},
   "source": [
    "#### sorted\n",
    "fonction qui retourne un nouveau element"
   ]
  },
  {
   "cell_type": "code",
   "execution_count": 31,
   "id": "d91ad5bd-1689-49da-8f1c-4d665c5de146",
   "metadata": {},
   "outputs": [
    {
     "data": {
      "text/plain": [
       "[10, 17, 25, 38, 72]"
      ]
     },
     "execution_count": 31,
     "metadata": {},
     "output_type": "execute_result"
    }
   ],
   "source": [
    "l_trie = sorted(liste)\n",
    "l_trie"
   ]
  },
  {
   "cell_type": "markdown",
   "id": "3b2283cf-d6b4-4840-874c-cd039ff4cd1d",
   "metadata": {},
   "source": [
    "#### sort():\n",
    "methode qui modifie l'element"
   ]
  },
  {
   "cell_type": "code",
   "execution_count": 32,
   "id": "783e06a4-dfec-4f2d-a3cc-2d09eb451044",
   "metadata": {},
   "outputs": [
    {
     "data": {
      "text/plain": [
       "[10, 17, 25, 38, 72]"
      ]
     },
     "execution_count": 32,
     "metadata": {},
     "output_type": "execute_result"
    }
   ],
   "source": [
    "liste.sort()\n",
    "liste"
   ]
  },
  {
   "cell_type": "markdown",
   "id": "8ebef252-511d-4a3d-be08-fd220b0cafe0",
   "metadata": {},
   "source": [
    "Si on veut faire un tri decroissant on ajoute reverse = true"
   ]
  },
  {
   "cell_type": "code",
   "execution_count": 33,
   "id": "79573ce5-db81-47c3-b8c4-5080e9003722",
   "metadata": {},
   "outputs": [
    {
     "data": {
      "text/plain": [
       "[72, 38, 25, 17, 10]"
      ]
     },
     "execution_count": 33,
     "metadata": {},
     "output_type": "execute_result"
    }
   ],
   "source": [
    "list = [17, 38, 10, 25, 72]\n",
    "list.sort(reverse = True)\n",
    "list"
   ]
  },
  {
   "cell_type": "markdown",
   "id": "cd9a4866-a0f9-4636-898e-26632fb5973a",
   "metadata": {},
   "source": [
    "### 2. ajoutez l’élément 12 à la liste et affichez la liste"
   ]
  },
  {
   "cell_type": "code",
   "execution_count": 34,
   "id": "d6c1f4e1-6a18-41e3-b388-4f256048c5cb",
   "metadata": {},
   "outputs": [
    {
     "data": {
      "text/plain": [
       "[10, 17, 25, 38, 72, 12]"
      ]
     },
     "execution_count": 34,
     "metadata": {},
     "output_type": "execute_result"
    }
   ],
   "source": [
    "liste.append(12)\n",
    "liste"
   ]
  },
  {
   "cell_type": "markdown",
   "id": "8f7f0039-2364-444a-b99a-eff37763c392",
   "metadata": {},
   "source": [
    "### 3. renversez et affichez la liste"
   ]
  },
  {
   "cell_type": "code",
   "execution_count": 35,
   "id": "f4bb98fd-77d3-4fbe-b835-268a28ac3659",
   "metadata": {},
   "outputs": [
    {
     "data": {
      "text/plain": [
       "[12, 72, 38, 25, 17, 10]"
      ]
     },
     "execution_count": 35,
     "metadata": {},
     "output_type": "execute_result"
    }
   ],
   "source": [
    "liste.reverse()\n",
    "liste"
   ]
  },
  {
   "cell_type": "raw",
   "id": "d70bf252-5322-438e-a487-53c39e2ff76c",
   "metadata": {},
   "source": [
    "pour produire un nouveau objet renverse on peut utiliser les slices"
   ]
  },
  {
   "cell_type": "code",
   "execution_count": 36,
   "id": "e6e4e648-2a7f-4b22-8fce-797c0ba4b424",
   "metadata": {},
   "outputs": [
    {
     "data": {
      "text/plain": [
       "[10, 17, 25, 38, 72, 12]"
      ]
     },
     "execution_count": 36,
     "metadata": {},
     "output_type": "execute_result"
    }
   ],
   "source": [
    "liste[::-1]"
   ]
  },
  {
   "cell_type": "markdown",
   "id": "c2edb4c2-2ed5-455f-933c-235f7936f10f",
   "metadata": {},
   "source": [
    "### 4. affichez l’indice de l’élément 17"
   ]
  },
  {
   "cell_type": "code",
   "execution_count": 37,
   "id": "09db1c52-13a6-406a-a249-e1a7dc769e66",
   "metadata": {},
   "outputs": [
    {
     "data": {
      "text/plain": [
       "4"
      ]
     },
     "execution_count": 37,
     "metadata": {},
     "output_type": "execute_result"
    }
   ],
   "source": [
    "liste.index(17)"
   ]
  },
  {
   "cell_type": "markdown",
   "id": "4af63938-2683-4127-b0c1-8de8b2513017",
   "metadata": {},
   "source": [
    "### 5. enlevez l’élément 38 et affichez la liste"
   ]
  },
  {
   "cell_type": "code",
   "execution_count": 38,
   "id": "b270848f-0aa3-4b9d-a8b1-6a5ae59b8530",
   "metadata": {},
   "outputs": [
    {
     "data": {
      "text/plain": [
       "[12, 72, 25, 17, 10]"
      ]
     },
     "execution_count": 38,
     "metadata": {},
     "output_type": "execute_result"
    }
   ],
   "source": [
    "del liste[liste.index(38)]\n",
    "liste"
   ]
  },
  {
   "cell_type": "markdown",
   "id": "62113448-1dc1-40cb-b2d4-ea6d1786ae6a",
   "metadata": {},
   "source": [
    "### 6. affichez la sous liste du 2e au 3e elementnt\r"
   ]
  },
  {
   "cell_type": "code",
   "execution_count": 42,
   "id": "882ecb4f-b95d-49ff-a92c-6ce90cd68dc0",
   "metadata": {},
   "outputs": [
    {
     "data": {
      "text/plain": [
       "[72, 25]"
      ]
     },
     "execution_count": 42,
     "metadata": {},
     "output_type": "execute_result"
    }
   ],
   "source": [
    "liste[1:3]"
   ]
  },
  {
   "cell_type": "markdown",
   "id": "b7e8b085-f859-4b33-96c3-768fa45a447b",
   "metadata": {},
   "source": [
    "### 7. affichez la sous liste du debut au 2e element"
   ]
  },
  {
   "cell_type": "code",
   "execution_count": 41,
   "id": "5803a552-c0a9-4b55-aa6f-519a3fac404d",
   "metadata": {},
   "outputs": [
    {
     "data": {
      "text/plain": [
       "[12, 72]"
      ]
     },
     "execution_count": 41,
     "metadata": {},
     "output_type": "execute_result"
    }
   ],
   "source": [
    "liste[:2]"
   ]
  },
  {
   "cell_type": "markdown",
   "id": "d13ac01c-87da-45c7-a6a6-5e42b77981d8",
   "metadata": {},
   "source": [
    "### 8. affichez la sous_liste du 3e a la fin de la liste"
   ]
  },
  {
   "cell_type": "code",
   "execution_count": 43,
   "id": "360b2232-3aa7-4e43-b5ad-a35af51f8b1e",
   "metadata": {},
   "outputs": [
    {
     "data": {
      "text/plain": [
       "[25, 17, 10]"
      ]
     },
     "execution_count": 43,
     "metadata": {},
     "output_type": "execute_result"
    }
   ],
   "source": [
    "liste[2:]"
   ]
  },
  {
   "cell_type": "markdown",
   "id": "9c686423-c8ba-446e-b9fe-2e9f754ccb29",
   "metadata": {},
   "source": [
    "### 9. affichez la sous-liste complète de la liste"
   ]
  },
  {
   "cell_type": "code",
   "execution_count": 44,
   "id": "a6532390-e4ac-47f5-95bb-709c344dbbe2",
   "metadata": {},
   "outputs": [
    {
     "data": {
      "text/plain": [
       "[12, 72, 25, 17, 10]"
      ]
     },
     "execution_count": 44,
     "metadata": {},
     "output_type": "execute_result"
    }
   ],
   "source": [
    "liste[:]"
   ]
  },
  {
   "cell_type": "markdown",
   "id": "19261862-1992-4bca-9c71-8380d3052aa4",
   "metadata": {},
   "source": [
    "### 10. affichez le dernier élément en utilisant un indiçage négatif"
   ]
  },
  {
   "cell_type": "code",
   "execution_count": 45,
   "id": "659806fc-e7ae-438f-ad88-7e67ccea9a70",
   "metadata": {},
   "outputs": [
    {
     "data": {
      "text/plain": [
       "10"
      ]
     },
     "execution_count": 45,
     "metadata": {},
     "output_type": "execute_result"
    }
   ],
   "source": [
    "liste[-1]"
   ]
  },
  {
   "cell_type": "markdown",
   "id": "0614e5b1-bd47-4284-a617-746382c7e805",
   "metadata": {},
   "source": [
    "## Exercice 5"
   ]
  },
  {
   "cell_type": "markdown",
   "id": "0ef9cb05-6f46-4ff8-96ea-e4f617ec4291",
   "metadata": {},
   "source": [
    "Écrire une fonction first_last d’argument c une chaîne de caractères ; qui retourne True si la chaîne est\r\n",
    "vide ou si son premier caractère coïncide avec son dernier caractère et False sinon."
   ]
  },
  {
   "cell_type": "code",
   "execution_count": 50,
   "id": "21c8911a-e237-4370-b057-800d55cd052c",
   "metadata": {},
   "outputs": [],
   "source": [
    "chaine = \"aaaa\""
   ]
  },
  {
   "cell_type": "markdown",
   "id": "e8c0a8ae-d27c-423c-a4fb-3017cda72ac2",
   "metadata": {},
   "source": [
    "### Methode 1"
   ]
  },
  {
   "cell_type": "code",
   "execution_count": 51,
   "id": "5be354dc-7b68-4cda-9bf9-7f876b5c931b",
   "metadata": {},
   "outputs": [
    {
     "data": {
      "text/plain": [
       "True"
      ]
     },
     "execution_count": 51,
     "metadata": {},
     "output_type": "execute_result"
    }
   ],
   "source": [
    "(chaine == \"\") or (chaine[0] == chaine[-1])"
   ]
  },
  {
   "cell_type": "markdown",
   "id": "31ce7d28-08b3-4a3a-8c2c-2c781f3208e4",
   "metadata": {},
   "source": [
    "### Methode 2"
   ]
  },
  {
   "cell_type": "code",
   "execution_count": 52,
   "id": "7fa17d00-2f5c-425d-ad6c-79c38435d456",
   "metadata": {},
   "outputs": [
    {
     "data": {
      "text/plain": [
       "True"
      ]
     },
     "execution_count": 52,
     "metadata": {},
     "output_type": "execute_result"
    }
   ],
   "source": [
    "(len(chaine) == 0) or (chaine[0] == chaine[-1])"
   ]
  },
  {
   "cell_type": "markdown",
   "id": "e6f32540-f184-46d5-a525-95cc02cb86d9",
   "metadata": {},
   "source": [
    "### NB :\n",
    "Dans le cas ou chaine etait vide."
   ]
  },
  {
   "cell_type": "code",
   "execution_count": 55,
   "id": "d82fdc8b-86a7-451c-b53b-5d6b961fdcdb",
   "metadata": {},
   "outputs": [],
   "source": [
    "chaine = \"\""
   ]
  },
  {
   "cell_type": "markdown",
   "id": "54971e4b-8682-4179-a443-6969845cdae9",
   "metadata": {},
   "source": [
    "\n",
    "(chaine[0] == chaine[-1]) or (len(chaine) == 0)\n",
    "on aura erreur car impossible d'indexer une chaine vide.\n",
    "Pourque ça fonctionne on inverse."
   ]
  },
  {
   "cell_type": "code",
   "execution_count": null,
   "id": "4725a9c7-95c7-455b-a411-3db8aa493b09",
   "metadata": {},
   "outputs": [],
   "source": [
    "(chaine[0] == chaine[-1]) or (len(chaine) == 0)"
   ]
  },
  {
   "cell_type": "code",
   "execution_count": 57,
   "id": "7be202f3-c956-44c0-950b-b89e3bfd1afc",
   "metadata": {},
   "outputs": [
    {
     "data": {
      "text/plain": [
       "False"
      ]
     },
     "execution_count": 57,
     "metadata": {},
     "output_type": "execute_result"
    }
   ],
   "source": [
    "def first_last(c):\n",
    "    return (c == \"\" or c[0] == c[-1])\n",
    "\n",
    "first_last(\"aaaM\")"
   ]
  },
  {
   "cell_type": "markdown",
   "id": "a00cbf49-3bba-48f3-9688-3f2c767a56b0",
   "metadata": {},
   "source": [
    "### Exercice 6\n",
    "\n",
    "Dans cet exercice, nous nous intéressons aux conversions de chaînes de caractères vers des listes et viceversa. <br>\r\n",
    "1. Dans cette question nous proposons de convertir une liste de chaînes de caractères vers une chaîne de\r\n",
    "caractèr <br>e.\r\n",
    "Le principe est simplement d’effectuer une jonction (ou concaténation) des chaînes de la liste en les\r\n",
    "séparant avec un caractère séparat <br>eur.\r\n",
    "2. Dans cette question, nous souhaitons convertir une chaîne de caractères en une liste de chaînes de\r\n",
    "caractères selon la spécification suiv <br>ante :"
   ]
  },
  {
   "cell_type": "code",
   "execution_count": 2,
   "id": "265cfb6c-50cb-46f8-8d7b-47a88eadf62f",
   "metadata": {},
   "outputs": [
    {
     "data": {
      "text/plain": [
       "'Je me nomme souleymane fall'"
      ]
     },
     "execution_count": 2,
     "metadata": {},
     "output_type": "execute_result"
    }
   ],
   "source": [
    "liste = [\"Je\", \"me\", \"nomme\", \"souleymane\", \"fall\"]\n",
    "liste = \" \".join(liste)\n",
    "liste"
   ]
  },
  {
   "cell_type": "code",
   "execution_count": 4,
   "id": "ab49b41e-1494-4e80-a3e4-71272225ffec",
   "metadata": {},
   "outputs": [
    {
     "data": {
      "text/plain": [
       "'Je me nomme souleymane fall'"
      ]
     },
     "execution_count": 4,
     "metadata": {},
     "output_type": "execute_result"
    }
   ],
   "source": [
    "liste_split = liste.split(\" \")\n",
    "liste"
   ]
  },
  {
   "cell_type": "markdown",
   "id": "4388302c-4292-4db5-b00c-72a2d3db64ef",
   "metadata": {},
   "source": [
    "### Exercice 7\n",
    "Écrire une fonction is_increasing \n",
    "d’argument L une liste (non vide) de nombres (de type int ou float \r\n",
    "qui retourne True si les éléments de la liste L sont rangés dans l’ordre croissant (au sens strict) et Fal e\r\n",
    "sinon."
   ]
  },
  {
   "cell_type": "markdown",
   "id": "b753b626-41d1-4504-bb6b-320dbfb98698",
   "metadata": {},
   "source": [
    "#### Methode 1"
   ]
  },
  {
   "cell_type": "code",
   "execution_count": 7,
   "id": "6fcd8c0d-9043-4c8b-992e-79a35bcf7d88",
   "metadata": {},
   "outputs": [
    {
     "data": {
      "text/plain": [
       "True"
      ]
     },
     "execution_count": 7,
     "metadata": {},
     "output_type": "execute_result"
    }
   ],
   "source": [
    "def is_increasing1(L) :\n",
    "    L_initial = L.copy()\n",
    "    L.sort()\n",
    "    return L == L_initial\n",
    "\n",
    "is_increasing1([1, 2, 3, 4, 5])"
   ]
  },
  {
   "cell_type": "markdown",
   "id": "cc610591-9a67-4e12-a5fa-68ac27b47ab2",
   "metadata": {},
   "source": [
    "#### Methode 2"
   ]
  },
  {
   "cell_type": "code",
   "execution_count": 6,
   "id": "b7d37f0d-e9b3-4ed1-8d6f-a41095b2323e",
   "metadata": {},
   "outputs": [
    {
     "data": {
      "text/plain": [
       "False"
      ]
     },
     "execution_count": 6,
     "metadata": {},
     "output_type": "execute_result"
    }
   ],
   "source": [
    "def is_increasing2(L) :\n",
    "    return sorted(L) == L\n",
    "\n",
    "is_increasing2([1, 3, 2, 4, 5])"
   ]
  },
  {
   "cell_type": "markdown",
   "id": "bc811bdd-9735-43c5-bfe5-46c2bc122826",
   "metadata": {},
   "source": [
    "### Exercice 8\n",
    "Initialisez truc comme une liste vide, et machin comme une liste de cinq flottants nuls. Affichez ces listes. <br>\r\n",
    "1. les enties de 0 à 3 <br>3\r\n",
    "2. les entierde 4 à 7 <br> 7\r\n",
    "les entiers de 2 à 8 par pas de 2.e <br> 2.\r\n",
    "Définir chose comme une liste des entiers de 0 à 5 et testez l’appartenance des éléments 3 et 6 à c <br>hose"
   ]
  },
  {
   "cell_type": "code",
   "execution_count": 8,
   "id": "3c24fe88-33ef-4f0f-96dd-49f3366b921a",
   "metadata": {},
   "outputs": [],
   "source": [
    "truc = []"
   ]
  },
  {
   "cell_type": "code",
   "execution_count": 9,
   "id": "6eb26ab2-abb8-4de2-b52f-4229be622cb5",
   "metadata": {},
   "outputs": [],
   "source": [
    "truc = list()"
   ]
  },
  {
   "cell_type": "code",
   "execution_count": 11,
   "id": "fee3c3a0-0ffb-4770-9def-1d2501c522cf",
   "metadata": {},
   "outputs": [
    {
     "data": {
      "text/plain": [
       "[0.0, 0.0, 0.0, 0.0, 0.0]"
      ]
     },
     "execution_count": 11,
     "metadata": {},
     "output_type": "execute_result"
    }
   ],
   "source": [
    "machin = [0.0] * 5\n",
    "machin"
   ]
  },
  {
   "cell_type": "code",
   "execution_count": 13,
   "id": "e68fe9e0-c591-4bd4-8696-f1e11cf15e90",
   "metadata": {},
   "outputs": [
    {
     "data": {
      "text/plain": [
       "[0, 1, 2, 3]"
      ]
     },
     "execution_count": 13,
     "metadata": {},
     "output_type": "execute_result"
    }
   ],
   "source": [
    "list(range(4))"
   ]
  },
  {
   "cell_type": "code",
   "execution_count": 14,
   "id": "e1549f38-ba47-49e1-a64e-7af8e5257270",
   "metadata": {},
   "outputs": [
    {
     "data": {
      "text/plain": [
       "[4, 5, 6, 7]"
      ]
     },
     "execution_count": 14,
     "metadata": {},
     "output_type": "execute_result"
    }
   ],
   "source": [
    "list(range(4, 8))\n"
   ]
  },
  {
   "cell_type": "code",
   "execution_count": 15,
   "id": "469b3428-f3da-4ba3-a2c2-a0d08559021b",
   "metadata": {},
   "outputs": [
    {
     "data": {
      "text/plain": [
       "[2, 4, 6, 8]"
      ]
     },
     "execution_count": 15,
     "metadata": {},
     "output_type": "execute_result"
    }
   ],
   "source": [
    "list(range(2, 9, 2))"
   ]
  },
  {
   "cell_type": "code",
   "execution_count": 17,
   "id": "d6ec505f-8f52-40c3-9309-3143695eee51",
   "metadata": {},
   "outputs": [
    {
     "data": {
      "text/plain": [
       "[0, 1, 2, 3, 4, 5]"
      ]
     },
     "execution_count": 17,
     "metadata": {},
     "output_type": "execute_result"
    }
   ],
   "source": [
    "chose = list(range(6))\n",
    "chose"
   ]
  },
  {
   "cell_type": "code",
   "execution_count": 18,
   "id": "39089575-99f9-40b7-9705-e5f0d50e3f85",
   "metadata": {},
   "outputs": [
    {
     "data": {
      "text/plain": [
       "True"
      ]
     },
     "execution_count": 18,
     "metadata": {},
     "output_type": "execute_result"
    }
   ],
   "source": [
    "3 in chose"
   ]
  },
  {
   "cell_type": "code",
   "execution_count": 20,
   "id": "bab810d0-1c2b-424c-ab85-05e519c42548",
   "metadata": {},
   "outputs": [
    {
     "data": {
      "text/plain": [
       "False"
      ]
     },
     "execution_count": 20,
     "metadata": {},
     "output_type": "execute_result"
    }
   ],
   "source": [
    "6 in chose"
   ]
  },
  {
   "cell_type": "code",
   "execution_count": null,
   "id": "99d5b28d-561b-45c2-b9a3-96a105a0cebb",
   "metadata": {},
   "outputs": [],
   "source": []
  }
 ],
 "metadata": {
  "kernelspec": {
   "display_name": "Python 3 (ipykernel)",
   "language": "python",
   "name": "python3"
  },
  "language_info": {
   "codemirror_mode": {
    "name": "ipython",
    "version": 3
   },
   "file_extension": ".py",
   "mimetype": "text/x-python",
   "name": "python",
   "nbconvert_exporter": "python",
   "pygments_lexer": "ipython3",
   "version": "3.12.0"
  }
 },
 "nbformat": 4,
 "nbformat_minor": 5
}

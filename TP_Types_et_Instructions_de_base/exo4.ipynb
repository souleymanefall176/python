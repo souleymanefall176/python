{
 "cells": [
  {
   "cell_type": "code",
   "execution_count": 46,
   "id": "4a64e6a7-cdb9-465c-b031-dbab8ec6b9e3",
   "metadata": {},
   "outputs": [],
   "source": [
    "liste = [17, 38, 10, 25, 72]"
   ]
  },
  {
   "cell_type": "code",
   "execution_count": 47,
   "id": "935e3121-6839-4b08-8cf9-65679417a513",
   "metadata": {},
   "outputs": [
    {
     "name": "stdout",
     "output_type": "stream",
     "text": [
      "[10, 17, 25, 38, 72]\n"
     ]
    }
   ],
   "source": [
    "### triez et affichez la liste\n",
    "liste.sort()\n",
    "print(liste)"
   ]
  },
  {
   "cell_type": "code",
   "execution_count": 48,
   "id": "2e0e882e-9875-40bb-b65a-652a1af649e2",
   "metadata": {},
   "outputs": [
    {
     "name": "stdout",
     "output_type": "stream",
     "text": [
      "[10, 17, 25, 38, 72, 12]\n"
     ]
    }
   ],
   "source": [
    "### ajoutez l’élément 12 à la liste et affichez la liste\n",
    "\n",
    "liste.append(12)\n",
    "print(liste)"
   ]
  },
  {
   "cell_type": "code",
   "execution_count": 49,
   "id": "12acb29a-b99b-4000-a8ed-0c90c20f1180",
   "metadata": {},
   "outputs": [
    {
     "name": "stdout",
     "output_type": "stream",
     "text": [
      "[12, 72, 38, 25, 17, 10]\n"
     ]
    }
   ],
   "source": [
    "### renversez et affichez la liste\n",
    "\n",
    "liste.reverse()\n",
    "print(liste)"
   ]
  },
  {
   "cell_type": "code",
   "execution_count": 50,
   "id": "e9e7b387-ecab-4ba4-9585-2c04f40966fc",
   "metadata": {},
   "outputs": [
    {
     "name": "stdout",
     "output_type": "stream",
     "text": [
      "[10, 17, 25, [72, 38], 12]\n"
     ]
    }
   ],
   "source": [
    "liste1 = [12,[ 72, 38], 25, 17, 10]\n",
    "liste1.reverse()\n",
    "print(liste1)\n"
   ]
  },
  {
   "cell_type": "code",
   "execution_count": 51,
   "id": "e17a9329-480b-4e02-971a-c5f61155d5cf",
   "metadata": {},
   "outputs": [
    {
     "data": {
      "text/plain": [
       "[10, 17, 25, [72, 38], 12]"
      ]
     },
     "execution_count": 51,
     "metadata": {},
     "output_type": "execute_result"
    }
   ],
   "source": [
    "liste1"
   ]
  },
  {
   "cell_type": "code",
   "execution_count": 52,
   "id": "28cadb99-9367-474e-8ddc-326c2d98d1d3",
   "metadata": {},
   "outputs": [
    {
     "name": "stdout",
     "output_type": "stream",
     "text": [
      "4\n"
     ]
    }
   ],
   "source": [
    "### affichez l’indice de l’élément 17\n",
    "\n",
    "print(liste.index(17))"
   ]
  },
  {
   "cell_type": "code",
   "execution_count": 53,
   "id": "bfd92781-3112-4ac3-af6d-baa79a45b995",
   "metadata": {},
   "outputs": [
    {
     "name": "stdout",
     "output_type": "stream",
     "text": [
      "[12, 72, 25, 17, 10]\n"
     ]
    }
   ],
   "source": [
    "### enlevez l’élément 38 et affichez la liste\n",
    "\n",
    "liste.remove(38)\n",
    "print(liste)"
   ]
  },
  {
   "cell_type": "code",
   "execution_count": 54,
   "id": "11387ae4-b3bd-4137-9cfa-2e79ac03130b",
   "metadata": {},
   "outputs": [
    {
     "name": "stdout",
     "output_type": "stream",
     "text": [
      "[72, 25]\n"
     ]
    }
   ],
   "source": [
    "### affichez la sous-liste du 2e au 3e élément\n",
    "print(liste[1:3])"
   ]
  },
  {
   "cell_type": "code",
   "execution_count": 42,
   "id": "0ffd78ad-63e3-4292-923d-20caa53f43ab",
   "metadata": {},
   "outputs": [
    {
     "name": "stdout",
     "output_type": "stream",
     "text": [
      "[10, 17]\n"
     ]
    }
   ],
   "source": [
    "### affichez la sous-liste du début au 2e élément\n",
    "print(liste[:2])"
   ]
  },
  {
   "cell_type": "code",
   "execution_count": 32,
   "id": "d8e97ca0-5b0d-416e-a424-9b532f9c1862",
   "metadata": {},
   "outputs": [
    {
     "name": "stdout",
     "output_type": "stream",
     "text": [
      "[25, 17, 10]\n"
     ]
    }
   ],
   "source": [
    "### affichez la sous-liste du 3e élément à la fin de la liste\n",
    "print(liste[2:])"
   ]
  },
  {
   "cell_type": "code",
   "execution_count": 33,
   "id": "32a02db8-2fd9-4b92-a09a-60cea03ea40c",
   "metadata": {},
   "outputs": [
    {
     "name": "stdout",
     "output_type": "stream",
     "text": [
      "10\n"
     ]
    }
   ],
   "source": [
    "### affichez le dernier élément en utilisant un indiçage négatif\n",
    "print(liste[-1])"
   ]
  },
  {
   "cell_type": "code",
   "execution_count": null,
   "id": "a60c087a-5261-416a-87df-b6a5fee0b803",
   "metadata": {},
   "outputs": [],
   "source": []
  }
 ],
 "metadata": {
  "kernelspec": {
   "display_name": "Python 3 (ipykernel)",
   "language": "python",
   "name": "python3"
  },
  "language_info": {
   "codemirror_mode": {
    "name": "ipython",
    "version": 3
   },
   "file_extension": ".py",
   "mimetype": "text/x-python",
   "name": "python",
   "nbconvert_exporter": "python",
   "pygments_lexer": "ipython3",
   "version": "3.12.0"
  }
 },
 "nbformat": 4,
 "nbformat_minor": 5
}

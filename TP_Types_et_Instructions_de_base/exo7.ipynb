{
 "cells": [
  {
   "cell_type": "code",
   "execution_count": 11,
   "id": "6ebc2c3f-c1fb-4f79-a68a-3cfdd2860b93",
   "metadata": {},
   "outputs": [
    {
     "data": {
      "text/plain": [
       "False"
      ]
     },
     "execution_count": 11,
     "metadata": {},
     "output_type": "execute_result"
    }
   ],
   "source": [
    "### Écrire une fonction is_increasing d’argument L une liste (non vide) de nombres (de type int ou float)\n",
    "### qui retourne True si les éléments de la liste L sont rangés dans l’ordre croissant (au sens strict) et False sinon\n",
    "\n",
    "def is_increasing(L) :\n",
    "    L_initial = L.copy()\n",
    "    L.sort()\n",
    "    return L == L_initial\n",
    "\n",
    "is_increasing([1, 3, 2, 4, 5])"
   ]
  },
  {
   "cell_type": "code",
   "execution_count": null,
   "id": "dd35c309-f3bc-4bed-8162-1ff9982f22a7",
   "metadata": {},
   "outputs": [],
   "source": []
  }
 ],
 "metadata": {
  "kernelspec": {
   "display_name": "Python 3 (ipykernel)",
   "language": "python",
   "name": "python3"
  },
  "language_info": {
   "codemirror_mode": {
    "name": "ipython",
    "version": 3
   },
   "file_extension": ".py",
   "mimetype": "text/x-python",
   "name": "python",
   "nbconvert_exporter": "python",
   "pygments_lexer": "ipython3",
   "version": "3.12.0"
  }
 },
 "nbformat": 4,
 "nbformat_minor": 5
}

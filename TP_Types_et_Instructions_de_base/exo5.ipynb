{
 "cells": [
  {
   "cell_type": "code",
   "execution_count": 5,
   "id": "86c71a96-e17b-4c67-8218-0fc7274a3c4d",
   "metadata": {},
   "outputs": [
    {
     "name": "stdout",
     "output_type": "stream",
     "text": [
      "False\n"
     ]
    }
   ],
   "source": [
    "### Écrire une fonction first_last d’argument c une chaîne de caractères ; qui retourne True si la chaîne est\n",
    "### vide ou si son premier caractère coïncide avec son dernier caractère et False sinon\n",
    "\n",
    "def first_last(c) :\n",
    "    if c == \"\" or c[0] == c[-1] :\n",
    "        return True\n",
    "    return False\n",
    "\n",
    "print(first_last(\"jua\"))"
   ]
  },
  {
   "cell_type": "code",
   "execution_count": null,
   "id": "cb496130-b08c-4ed0-97b8-5779d422444a",
   "metadata": {},
   "outputs": [],
   "source": []
  }
 ],
 "metadata": {
  "kernelspec": {
   "display_name": "Python 3 (ipykernel)",
   "language": "python",
   "name": "python3"
  },
  "language_info": {
   "codemirror_mode": {
    "name": "ipython",
    "version": 3
   },
   "file_extension": ".py",
   "mimetype": "text/x-python",
   "name": "python",
   "nbconvert_exporter": "python",
   "pygments_lexer": "ipython3",
   "version": "3.12.0"
  }
 },
 "nbformat": 4,
 "nbformat_minor": 5
}

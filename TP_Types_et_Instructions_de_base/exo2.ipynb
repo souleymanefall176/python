{
 "cells": [
  {
   "cell_type": "code",
   "execution_count": 12,
   "id": "b9f8c581-fdd1-404c-8fe5-98d11a5a0e08",
   "metadata": {},
   "outputs": [
    {
     "name": "stdout",
     "output_type": "stream",
     "text": [
      "ERREUR : 10 doit etre superieure à 12\n",
      "Aire du couronne est : None\n"
     ]
    }
   ],
   "source": [
    "from math import pi\n",
    "\n",
    "### Donner une définition ainsi qu’un jeu de tests de la fonction aire_disque qui calcule l’aire π × r\n",
    "### 2 d’un disque de rayon r\n",
    "def aire_disque(r) :\n",
    "    return pi * r**2\n",
    "\n",
    "### Donner une définition ainsi qu’un jeu de tests de la fonction aire_couronne qui, étant donné deux\n",
    "### nombres r1 et r2, calcule l’aire de la couronne de rayon intérieur r1 et de rayon extérieur r2\n",
    "\n",
    "def aire_couronne(r1, r2) :\n",
    "    if (r1 >= r2) :\n",
    "        return aire_disque(r1) - aire_disque(r2)\n",
    "    else :\n",
    "        print(f\"ERREUR : {r1} doit etre superieure à {r2}\")\n",
    "\n",
    "result = aire_couronne(10,12)\n",
    "if result :\n",
    "    print(f\"Aire du couronne est : {result}\")\n",
    "        "
   ]
  },
  {
   "cell_type": "code",
   "execution_count": null,
   "id": "11f41802-d774-49c4-a181-642f83c6109e",
   "metadata": {},
   "outputs": [],
   "source": []
  }
 ],
 "metadata": {
  "kernelspec": {
   "display_name": "Python 3 (ipykernel)",
   "language": "python",
   "name": "python3"
  },
  "language_info": {
   "codemirror_mode": {
    "name": "ipython",
    "version": 3
   },
   "file_extension": ".py",
   "mimetype": "text/x-python",
   "name": "python",
   "nbconvert_exporter": "python",
   "pygments_lexer": "ipython3",
   "version": "3.12.0"
  }
 },
 "nbformat": 4,
 "nbformat_minor": 5
}

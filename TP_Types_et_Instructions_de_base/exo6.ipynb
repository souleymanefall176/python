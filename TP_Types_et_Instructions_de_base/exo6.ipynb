{
 "cells": [
  {
   "cell_type": "code",
   "execution_count": 13,
   "id": "37de0182-63fa-4697-89af-e7a19076abaf",
   "metadata": {},
   "outputs": [],
   "source": [
    "### Dans cette question nous proposons de convertir une liste de chaînes de caractères vers une chaîne de caractère. \n",
    "### Le principe est simplement d’effectuer une jonction (ou concaténation) des chaînes de la liste en \n",
    "### les séparant avec un caractère séparateur\n",
    "\n",
    "liste = [\"Je\", \"me\", \"nomme\", \"souleymane\", \"fall\"]\n",
    "liste = \" \".join(liste)"
   ]
  },
  {
   "cell_type": "code",
   "execution_count": 12,
   "id": "3716ff03-c1d4-41e1-93e8-a4bd26b91102",
   "metadata": {},
   "outputs": [
    {
     "name": "stdout",
     "output_type": "stream",
     "text": [
      "['Je', 'me', 'nomme', 'souleymane', 'fall']\n"
     ]
    }
   ],
   "source": [
    "### Dans cette question, nous souhaitons convertir une chaîne de caractères en une liste de chaînes de\n",
    "### caractères selon la spécification suivante\n",
    "liste_split = liste.split(\" \")"
   ]
  },
  {
   "cell_type": "code",
   "execution_count": null,
   "id": "be1735c9-83e3-4dbd-9dd0-3f425e0c60dc",
   "metadata": {},
   "outputs": [],
   "source": []
  }
 ],
 "metadata": {
  "kernelspec": {
   "display_name": "Python 3 (ipykernel)",
   "language": "python",
   "name": "python3"
  },
  "language_info": {
   "codemirror_mode": {
    "name": "ipython",
    "version": 3
   },
   "file_extension": ".py",
   "mimetype": "text/x-python",
   "name": "python",
   "nbconvert_exporter": "python",
   "pygments_lexer": "ipython3",
   "version": "3.12.0"
  }
 },
 "nbformat": 4,
 "nbformat_minor": 5
}
